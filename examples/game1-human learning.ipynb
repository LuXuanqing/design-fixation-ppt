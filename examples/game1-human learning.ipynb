{
 "cells": [
  {
   "cell_type": "markdown",
   "metadata": {},
   "source": [
    "## 下面的代码你不用看 "
   ]
  },
  {
   "cell_type": "code",
   "execution_count": null,
   "metadata": {},
   "outputs": [],
   "source": [
    "import numpy as np\n",
    "from matplotlib import pyplot as plt\n",
    "\n",
    "\n",
    "def play():\n",
    "    # 初始化\n",
    "    np.random.seed(42)\n",
    "    ANSWER = np.random.rand(1) # 随机生成一个0到1之间的数\n",
    "    history = {'guess': [], 'loss': []}\n",
    "    loss = 999\n",
    "    \n",
    "    def get_loss(y):\n",
    "        loss = float((y - ANSWER) ** 2)\n",
    "        print('loss: {}'.format(loss))\n",
    "        return loss\n",
    "    \n",
    "    while loss > 0.0001:\n",
    "        guess = float(input('本轮猜测：'))\n",
    "        loss = get_loss(guess)\n",
    "        print('='*40)\n",
    "        history['guess'].append(guess)\n",
    "        history['loss'].append(loss)\n",
    "    print('【任务完成】这个数字是{}，你猜得非常准！'.format(ANSWER))\n",
    "    \n",
    "    return history, ANSWER\n",
    "\n",
    "\n",
    "def draw(history, ANSWER):\n",
    "    epochs = np.arange(len(history['loss']))+1\n",
    "    fig1 = plt.figure(1, figsize=(8,8), dpi=100)\n",
    "    plt.subplot(211)\n",
    "    plt.plot(epochs, history['guess'], 'darkorange', label='your guesses', linewidth=2)\n",
    "    plt.axhline(ANSWER, color='c', label='answer', linewidth=2)\n",
    "    plt.legend()\n",
    "    plt.xticks(epochs)\n",
    "    plt.ylim(0,1)\n",
    "    plt.title('your guesses and the answer')\n",
    "    plt.subplot(212)\n",
    "    plt.plot(epochs, history['loss'], 'darkmagenta', label='current loss', linewidth=2)\n",
    "    plt.xticks(epochs)\n",
    "    plt.title('how loss decreased')\n",
    "    plt.show()"
   ]
  },
  {
   "cell_type": "markdown",
   "metadata": {},
   "source": [
    "## 开始游戏"
   ]
  },
  {
   "cell_type": "code",
   "execution_count": null,
   "metadata": {
    "scrolled": true
   },
   "outputs": [],
   "source": [
    "his, ans = play()"
   ]
  },
  {
   "cell_type": "markdown",
   "metadata": {},
   "source": [
    "## 可视化 "
   ]
  },
  {
   "cell_type": "code",
   "execution_count": null,
   "metadata": {},
   "outputs": [],
   "source": [
    "draw(his, ans)"
   ]
  },
  {
   "cell_type": "code",
   "execution_count": null,
   "metadata": {},
   "outputs": [],
   "source": []
  }
 ],
 "metadata": {
  "kernelspec": {
   "display_name": "Python 3",
   "language": "python",
   "name": "python3"
  },
  "language_info": {
   "codemirror_mode": {
    "name": "ipython",
    "version": 3
   },
   "file_extension": ".py",
   "mimetype": "text/x-python",
   "name": "python",
   "nbconvert_exporter": "python",
   "pygments_lexer": "ipython3",
   "version": "3.6.4"
  }
 },
 "nbformat": 4,
 "nbformat_minor": 2
}
